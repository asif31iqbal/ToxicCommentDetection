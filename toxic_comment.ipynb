{
 "cells": [
  {
   "cell_type": "code",
   "execution_count": 2,
   "metadata": {},
   "outputs": [
    {
     "name": "stderr",
     "output_type": "stream",
     "text": [
      "/Users/asifiqbal/workspace/envs/asif_python3/lib/python3.6/site-packages/h5py/__init__.py:36: FutureWarning: Conversion of the second argument of issubdtype from `float` to `np.floating` is deprecated. In future, it will be treated as `np.float64 == np.dtype(float).type`.\n",
      "  from ._conv import register_converters as _register_converters\n",
      "Using TensorFlow backend.\n"
     ]
    }
   ],
   "source": [
    "import pandas as pd\n",
    "from keras.preprocessing.text import Tokenizer\n",
    "from nltk.corpus import stopwords\n",
    "from nltk.tokenize import sent_tokenize, word_tokenize, RegexpTokenizer\n",
    "from keras import models, layers\n",
    "import numpy as np\n",
    "import matplotlib.pyplot as plt\n",
    "from keras import preprocessing\n",
    "import os"
   ]
  },
  {
   "cell_type": "code",
   "execution_count": 3,
   "metadata": {},
   "outputs": [],
   "source": [
    "df_train = pd.read_csv('train.csv')"
   ]
  },
  {
   "cell_type": "code",
   "execution_count": 4,
   "metadata": {},
   "outputs": [
    {
     "data": {
      "text/plain": [
       "Index(['id', 'comment_text', 'toxic', 'severe_toxic', 'obscene', 'threat',\n",
       "       'insult', 'identity_hate'],\n",
       "      dtype='object')"
      ]
     },
     "execution_count": 4,
     "metadata": {},
     "output_type": "execute_result"
    }
   ],
   "source": [
    "df_train.columns"
   ]
  },
  {
   "cell_type": "code",
   "execution_count": 5,
   "metadata": {},
   "outputs": [],
   "source": [
    "df_test = pd.read_csv('test.csv')"
   ]
  },
  {
   "cell_type": "code",
   "execution_count": 6,
   "metadata": {},
   "outputs": [],
   "source": [
    "corpus = pd.concat([df_train[['id', 'comment_text']], df_test[['id', 'comment_text']]])"
   ]
  },
  {
   "cell_type": "code",
   "execution_count": 7,
   "metadata": {},
   "outputs": [],
   "source": [
    "stop_words = set(stopwords.words('english'))"
   ]
  },
  {
   "cell_type": "code",
   "execution_count": 8,
   "metadata": {},
   "outputs": [],
   "source": [
    "max_length = 0"
   ]
  },
  {
   "cell_type": "code",
   "execution_count": 9,
   "metadata": {},
   "outputs": [],
   "source": [
    "def pre_process(corpus):\n",
    "    def remove_stopword(sentence):\n",
    "        sentence = sentence.lower()\n",
    "        tokenizer = RegexpTokenizer(r'\\w+')\n",
    "        tokens = tokenizer.tokenize(sentence)\n",
    "        filtered_words = [w for w in tokens if not w in stop_words]\n",
    "        return ' '.join(filtered_words)\n",
    "\n",
    "    corpus['comment_text'] = corpus['comment_text'].apply(remove_stopword)\n",
    "    return corpus"
   ]
  },
  {
   "cell_type": "code",
   "execution_count": 10,
   "metadata": {},
   "outputs": [],
   "source": [
    "corpus = pre_process(corpus)"
   ]
  },
  {
   "cell_type": "code",
   "execution_count": 11,
   "metadata": {},
   "outputs": [],
   "source": [
    "df_train = pd.merge(df_train, corpus, on='id', how='inner') \\\n",
    "             .rename(columns={'comment_text_y': 'comment_text'}).drop(['comment_text_x'], axis=1)"
   ]
  },
  {
   "cell_type": "code",
   "execution_count": 12,
   "metadata": {},
   "outputs": [],
   "source": [
    "df_test = pd.merge(df_test, corpus, on='id', how='inner') \\\n",
    "            .rename(columns={'comment_text_y': 'comment_text'}).drop(['comment_text_x'], axis=1)"
   ]
  },
  {
   "cell_type": "code",
   "execution_count": 13,
   "metadata": {},
   "outputs": [
    {
     "data": {
      "text/plain": [
       "34.74456968359794"
      ]
     },
     "execution_count": 13,
     "metadata": {},
     "output_type": "execute_result"
    }
   ],
   "source": [
    "corpus['comment_text'].apply(lambda x: len(x.split(' '))).mean()"
   ]
  },
  {
   "cell_type": "code",
   "execution_count": 16,
   "metadata": {},
   "outputs": [],
   "source": [
    "max_words = 10000"
   ]
  },
  {
   "cell_type": "code",
   "execution_count": 19,
   "metadata": {},
   "outputs": [],
   "source": [
    "corpus = corpus.sample(frac=1).reset_index()\n",
    "tokenizer = Tokenizer(num_words=max_words)\n",
    "tokenizer.fit_on_texts(corpus['comment_text'])"
   ]
  },
  {
   "cell_type": "code",
   "execution_count": 20,
   "metadata": {},
   "outputs": [],
   "source": [
    "sequences = tokenizer.texts_to_sequences(corpus['comment_text'])"
   ]
  },
  {
   "cell_type": "code",
   "execution_count": 21,
   "metadata": {},
   "outputs": [],
   "source": [
    "df_train = df_train.sample(frac=1).reset_index()"
   ]
  },
  {
   "cell_type": "code",
   "execution_count": 22,
   "metadata": {},
   "outputs": [],
   "source": [
    "one_hot_results = tokenizer.texts_to_matrix(df_train['comment_text'], mode='binary')"
   ]
  },
  {
   "cell_type": "code",
   "execution_count": 23,
   "metadata": {},
   "outputs": [
    {
     "data": {
      "text/plain": [
       "array([0., 0., 0., ..., 0., 0., 0.])"
      ]
     },
     "execution_count": 23,
     "metadata": {},
     "output_type": "execute_result"
    }
   ],
   "source": [
    "one_hot_results[0]"
   ]
  },
  {
   "cell_type": "code",
   "execution_count": 24,
   "metadata": {},
   "outputs": [
    {
     "data": {
      "text/plain": [
       "348460"
      ]
     },
     "execution_count": 24,
     "metadata": {},
     "output_type": "execute_result"
    }
   ],
   "source": [
    "len(tokenizer.word_counts)"
   ]
  },
  {
   "cell_type": "code",
   "execution_count": 25,
   "metadata": {},
   "outputs": [],
   "source": [
    "labels = df_train[['toxic', 'severe_toxic', 'obscene', 'threat', 'insult', 'identity_hate']]\n",
    "labels = np.asarray(labels).astype('float32')"
   ]
  },
  {
   "cell_type": "code",
   "execution_count": 26,
   "metadata": {},
   "outputs": [],
   "source": [
    "x_train = one_hot_results[:100000]\n",
    "x_val = one_hot_results[100000:]\n",
    "y_train = labels[:100000]\n",
    "y_val = labels[100000:]"
   ]
  },
  {
   "cell_type": "code",
   "execution_count": 21,
   "metadata": {},
   "outputs": [],
   "source": [
    "model = models.Sequential()\n",
    "model.add(layers.Dense(16, activation='relu', input_shape=(10000,)))\n",
    "model.add(layers.Dense(16, activation='relu'))\n",
    "model.add(layers.Dense(6, activation='sigmoid'))\n",
    "\n",
    "model.compile(optimizer='rmsprop',\n",
    "              loss='binary_crossentropy',\n",
    "              metrics=['accuracy'])\n",
    "\n",
    "model.save_weights('my_model_weights.h5')\n",
    "# model.load_weights('my_model_weights.h5')"
   ]
  },
  {
   "cell_type": "code",
   "execution_count": 22,
   "metadata": {},
   "outputs": [
    {
     "name": "stdout",
     "output_type": "stream",
     "text": [
      "Train on 100000 samples, validate on 59571 samples\n",
      "Epoch 1/20\n",
      "100000/100000 [==============================] - 30s 297us/step - loss: 0.2574 - acc: 0.9556 - val_loss: 0.1119 - val_acc: 0.9679\n",
      "Epoch 2/20\n",
      "100000/100000 [==============================] - 31s 312us/step - loss: 0.0851 - acc: 0.9739 - val_loss: 0.0734 - val_acc: 0.9769\n",
      "Epoch 3/20\n",
      "100000/100000 [==============================] - 29s 291us/step - loss: 0.0643 - acc: 0.9792 - val_loss: 0.0670 - val_acc: 0.9793\n",
      "Epoch 4/20\n",
      "100000/100000 [==============================] - 29s 292us/step - loss: 0.0577 - acc: 0.9811 - val_loss: 0.0644 - val_acc: 0.9801\n",
      "Epoch 5/20\n",
      "100000/100000 [==============================] - 30s 296us/step - loss: 0.0535 - acc: 0.9821 - val_loss: 0.0632 - val_acc: 0.9804\n",
      "Epoch 6/20\n",
      "100000/100000 [==============================] - 29s 292us/step - loss: 0.0505 - acc: 0.9829 - val_loss: 0.0630 - val_acc: 0.9805\n",
      "Epoch 7/20\n",
      "100000/100000 [==============================] - 29s 291us/step - loss: 0.0480 - acc: 0.9836 - val_loss: 0.0624 - val_acc: 0.9806\n",
      "Epoch 8/20\n",
      "100000/100000 [==============================] - 30s 301us/step - loss: 0.0456 - acc: 0.9843 - val_loss: 0.0621 - val_acc: 0.9805\n",
      "Epoch 9/20\n",
      "100000/100000 [==============================] - 30s 302us/step - loss: 0.0433 - acc: 0.9850 - val_loss: 0.0629 - val_acc: 0.9808\n",
      "Epoch 10/20\n",
      "100000/100000 [==============================] - 41s 408us/step - loss: 0.0412 - acc: 0.9856 - val_loss: 0.0627 - val_acc: 0.9807\n",
      "Epoch 11/20\n",
      "100000/100000 [==============================] - 41s 409us/step - loss: 0.0393 - acc: 0.9862 - val_loss: 0.0622 - val_acc: 0.9806\n",
      "Epoch 12/20\n",
      "100000/100000 [==============================] - 41s 410us/step - loss: 0.0375 - acc: 0.9869 - val_loss: 0.0628 - val_acc: 0.9804\n",
      "Epoch 13/20\n",
      "100000/100000 [==============================] - 40s 398us/step - loss: 0.0360 - acc: 0.9874 - val_loss: 0.0639 - val_acc: 0.9807\n",
      "Epoch 14/20\n",
      "100000/100000 [==============================] - 34s 339us/step - loss: 0.0346 - acc: 0.9879 - val_loss: 0.0637 - val_acc: 0.9803\n",
      "Epoch 15/20\n",
      "100000/100000 [==============================] - 35s 351us/step - loss: 0.0333 - acc: 0.9884 - val_loss: 0.0641 - val_acc: 0.9801\n",
      "Epoch 16/20\n",
      "100000/100000 [==============================] - 31s 305us/step - loss: 0.0321 - acc: 0.9888 - val_loss: 0.0652 - val_acc: 0.9803\n",
      "Epoch 17/20\n",
      "100000/100000 [==============================] - 30s 301us/step - loss: 0.0309 - acc: 0.9892 - val_loss: 0.0660 - val_acc: 0.9801\n",
      "Epoch 18/20\n",
      "100000/100000 [==============================] - 31s 314us/step - loss: 0.0298 - acc: 0.9896 - val_loss: 0.0664 - val_acc: 0.9798\n",
      "Epoch 19/20\n",
      "100000/100000 [==============================] - 31s 311us/step - loss: 0.0288 - acc: 0.9900 - val_loss: 0.0687 - val_acc: 0.9799\n",
      "Epoch 20/20\n",
      "100000/100000 [==============================] - 30s 301us/step - loss: 0.0278 - acc: 0.9903 - val_loss: 0.0698 - val_acc: 0.9799\n"
     ]
    }
   ],
   "source": [
    "epochs = 20\n",
    "history = model.fit(x_train,\n",
    "                    x,\n",
    "                    epochs=epochs,\n",
    "                    batch_size=512,\n",
    "                    validation_data=(x_val, y_val))"
   ]
  },
  {
   "cell_type": "code",
   "execution_count": 31,
   "metadata": {},
   "outputs": [],
   "source": [
    "history_dict = history.history\n",
    "loss_values = history_dict['loss']\n",
    "val_loss_values = history_dict['val_loss']\n",
    "acc_values = history_dict['acc']\n",
    "val_acc_values = history_dict['val_acc']\n",
    "epochs = 20\n",
    "epoch_numbers = range(1, epochs + 1)"
   ]
  },
  {
   "cell_type": "code",
   "execution_count": 32,
   "metadata": {},
   "outputs": [
    {
     "data": {
      "image/png": "[encoded data removed]",
      "text/plain": [
       "<matplotlib.figure.Figure at 0x128d38438>"
      ]
     },
     "metadata": {},
     "output_type": "display_data"
    }
   ],
   "source": [
    "plt.plot(epoch_numbers, loss_values, 'bo', label='Training loss')\n",
    "plt.plot(epoch_numbers, val_loss_values, 'b', label='Validation loss')\n",
    "plt.title('Training and validation loss')\n",
    "plt.xlabel('Epochs')\n",
    "plt.ylabel('Loss')\n",
    "plt.legend()\n",
    "plt.show() "
   ]
  },
  {
   "cell_type": "code",
   "execution_count": 40,
   "metadata": {},
   "outputs": [
    {
     "data": {
      "image/png": "[encoded data removed]",
      "text/plain": [
       "<matplotlib.figure.Figure at 0x1293f2e48>"
      ]
     },
     "metadata": {},
     "output_type": "display_data"
    }
   ],
   "source": [
    "plt.plot(epoch_numbers, acc_values, 'bo', label='Training acc')\n",
    "plt.plot(epoch_numbers, val_acc_values, 'b', label='Validation acc')\n",
    "plt.title('Training and validation accuracy')\n",
    "plt.xlabel('Epochs')\n",
    "plt.ylabel('Loss')\n",
    "# plt.yticks(np.arange(min(acc_values) - 0.05, max(val_acc_values) + 0.05, .002))\n",
    "plt.legend()\n",
    "# plt.figure(figsize=(3,4))\n",
    "plt.show()"
   ]
  },
  {
   "cell_type": "code",
   "execution_count": 59,
   "metadata": {},
   "outputs": [],
   "source": [
    "# f, ax = plt.subplots(2, figsize=(10,15))\n",
    "# ax[0].plot(epoch_numbers, loss_values, 'bo', label='Training loss')\n",
    "# ax[0].plot(epoch_numbers, val_loss_values, 'b', label='Validation loss')\n",
    "# ax[0].set_title('Training and validation loss')\n",
    "\n",
    "# ax[1].plot(epoch_numbers, acc_values, 'bo', label='Training acc')\n",
    "# ax[1].plot(epoch_numbers, val_acc_values, 'b', label='Validation acc')\n",
    "# ax[1].set_title('Training and validation accuracy')\n",
    "\n",
    "# f.subplots_adjust(hspace=0.3)\n",
    "\n",
    "# plt.show()"
   ]
  },
  {
   "cell_type": "markdown",
   "metadata": {},
   "source": [
    "#TF-IDF features"
   ]
  },
  {
   "cell_type": "code",
   "execution_count": 60,
   "metadata": {},
   "outputs": [],
   "source": [
    "one_hot_tfidf_results = tokenizer.texts_to_matrix(df_train['comment_text'], mode='tfidf')"
   ]
  },
  {
   "cell_type": "code",
   "execution_count": 61,
   "metadata": {},
   "outputs": [],
   "source": [
    "x_train = one_hot_tfidf_results[:100000]\n",
    "x_val = one_hot_tfidf_results[100000:]"
   ]
  },
  {
   "cell_type": "code",
   "execution_count": 62,
   "metadata": {},
   "outputs": [],
   "source": [
    "model.load_weights('my_model_weights.h5')"
   ]
  },
  {
   "cell_type": "code",
   "execution_count": 63,
   "metadata": {},
   "outputs": [
    {
     "name": "stdout",
     "output_type": "stream",
     "text": [
      "Train on 100000 samples, validate on 59571 samples\n",
      "Epoch 1/20\n",
      "100000/100000 [==============================] - 32s 316us/step - loss: 0.1926 - acc: 0.9610 - val_loss: 0.0942 - val_acc: 0.9785\n",
      "Epoch 2/20\n",
      "100000/100000 [==============================] - 33s 334us/step - loss: 0.0755 - acc: 0.9806 - val_loss: 0.0751 - val_acc: 0.9800\n",
      "Epoch 3/20\n",
      "100000/100000 [==============================] - 33s 332us/step - loss: 0.0599 - acc: 0.9824 - val_loss: 0.0712 - val_acc: 0.9803\n",
      "Epoch 4/20\n",
      "100000/100000 [==============================] - 31s 309us/step - loss: 0.0526 - acc: 0.9837 - val_loss: 0.0703 - val_acc: 0.9804\n",
      "Epoch 5/20\n",
      "100000/100000 [==============================] - 31s 314us/step - loss: 0.0478 - acc: 0.9848 - val_loss: 0.0704 - val_acc: 0.9805\n",
      "Epoch 6/20\n",
      "100000/100000 [==============================] - 30s 301us/step - loss: 0.0438 - acc: 0.9860 - val_loss: 0.0709 - val_acc: 0.9806\n",
      "Epoch 7/20\n",
      "100000/100000 [==============================] - 31s 306us/step - loss: 0.0404 - acc: 0.9871 - val_loss: 0.0716 - val_acc: 0.9804\n",
      "Epoch 8/20\n",
      "100000/100000 [==============================] - 30s 297us/step - loss: 0.0374 - acc: 0.9881 - val_loss: 0.0724 - val_acc: 0.9805\n",
      "Epoch 9/20\n",
      "100000/100000 [==============================] - 31s 306us/step - loss: 0.0348 - acc: 0.9891 - val_loss: 0.0728 - val_acc: 0.9800\n",
      "Epoch 10/20\n",
      "100000/100000 [==============================] - 30s 296us/step - loss: 0.0324 - acc: 0.9899 - val_loss: 0.0722 - val_acc: 0.9799\n",
      "Epoch 11/20\n",
      "100000/100000 [==============================] - 30s 304us/step - loss: 0.0305 - acc: 0.9905 - val_loss: 0.0741 - val_acc: 0.9801\n",
      "Epoch 12/20\n",
      "100000/100000 [==============================] - 30s 302us/step - loss: 0.0286 - acc: 0.9912 - val_loss: 0.0757 - val_acc: 0.9800\n",
      "Epoch 13/20\n",
      "100000/100000 [==============================] - 31s 307us/step - loss: 0.0268 - acc: 0.9917 - val_loss: 0.0770 - val_acc: 0.9798\n",
      "Epoch 14/20\n",
      "100000/100000 [==============================] - 30s 299us/step - loss: 0.0251 - acc: 0.9923 - val_loss: 0.0787 - val_acc: 0.9796\n",
      "Epoch 15/20\n",
      "100000/100000 [==============================] - 30s 301us/step - loss: 0.0237 - acc: 0.9927 - val_loss: 0.0797 - val_acc: 0.9791\n",
      "Epoch 16/20\n",
      "100000/100000 [==============================] - 30s 305us/step - loss: 0.0224 - acc: 0.9931 - val_loss: 0.0814 - val_acc: 0.9789\n",
      "Epoch 17/20\n",
      "100000/100000 [==============================] - 3328s 33ms/step - loss: 0.0214 - acc: 0.9934 - val_loss: 0.0837 - val_acc: 0.9789\n",
      "Epoch 18/20\n",
      "100000/100000 [==============================] - 60s 603us/step - loss: 0.0205 - acc: 0.9938 - val_loss: 0.0860 - val_acc: 0.9786\n",
      "Epoch 19/20\n",
      "100000/100000 [==============================] - 40s 400us/step - loss: 0.0197 - acc: 0.9940 - val_loss: 0.0885 - val_acc: 0.9787\n",
      "Epoch 20/20\n",
      "100000/100000 [==============================] - 31s 310us/step - loss: 0.0188 - acc: 0.9943 - val_loss: 0.0900 - val_acc: 0.9782\n"
     ]
    }
   ],
   "source": [
    "history = model.fit(x_train,\n",
    "                    y_train,\n",
    "                    epochs=epochs,\n",
    "                    batch_size=512,\n",
    "                    validation_data=(x_val, y_val))"
   ]
  },
  {
   "cell_type": "code",
   "execution_count": 64,
   "metadata": {},
   "outputs": [],
   "source": [
    "history_dict = history.history\n",
    "loss_values = history_dict['loss']\n",
    "val_loss_values = history_dict['val_loss']\n",
    "acc_values = history_dict['acc']\n",
    "val_acc_values = history_dict['val_acc']\n",
    "epochs = 20\n",
    "epoch_numbers = range(1, epochs + 1)"
   ]
  },
  {
   "cell_type": "code",
   "execution_count": 65,
   "metadata": {},
   "outputs": [
    {
     "data": {
      "image/png": "[encoded data removed]",
      "text/plain": [
       "<matplotlib.figure.Figure at 0x426ad7160>"
      ]
     },
     "metadata": {},
     "output_type": "display_data"
    }
   ],
   "source": [
    "plt.plot(epoch_numbers, loss_values, 'bo', label='Training loss')\n",
    "plt.plot(epoch_numbers, val_loss_values, 'b', label='Validation loss')\n",
    "plt.title('Training and validation loss')\n",
    "plt.xlabel('Epochs')\n",
    "plt.ylabel('Loss')\n",
    "plt.legend()\n",
    "plt.show() "
   ]
  },
  {
   "cell_type": "code",
   "execution_count": 66,
   "metadata": {},
   "outputs": [
    {
     "data": {
      "image/png": "[encoded data removed]",
      "text/plain": [
       "<matplotlib.figure.Figure at 0x426698780>"
      ]
     },
     "metadata": {},
     "output_type": "display_data"
    }
   ],
   "source": [
    "plt.plot(epoch_numbers, acc_values, 'bo', label='Training acc')\n",
    "plt.plot(epoch_numbers, val_acc_values, 'b', label='Validation acc')\n",
    "plt.title('Training and validation accuracy')\n",
    "plt.xlabel('Epochs')\n",
    "plt.ylabel('Loss')\n",
    "# plt.yticks(np.arange(min(acc_values) - 0.05, max(val_acc_values) + 0.05, .002))\n",
    "plt.legend()\n",
    "# plt.figure(figsize=(3,4))\n",
    "plt.show()"
   ]
  },
  {
   "cell_type": "markdown",
   "metadata": {},
   "source": [
    "# Learn an embedding"
   ]
  },
  {
   "cell_type": "code",
   "execution_count": 27,
   "metadata": {},
   "outputs": [],
   "source": [
    "embedding_dimension = 100\n",
    "max_len = 100"
   ]
  },
  {
   "cell_type": "code",
   "execution_count": 38,
   "metadata": {},
   "outputs": [],
   "source": [
    "x_train = tokenizer.texts_to_sequences(df_train['comment_text'])\n",
    "x_train = preprocessing.sequence.pad_sequences(x_train, maxlen=max_len)\n",
    "y_train = labels"
   ]
  },
  {
   "cell_type": "code",
   "execution_count": 92,
   "metadata": {},
   "outputs": [
    {
     "data": {
      "text/plain": [
       "(159571, 100)"
      ]
     },
     "execution_count": 92,
     "metadata": {},
     "output_type": "execute_result"
    }
   ],
   "source": [
    "x_train.shape"
   ]
  },
  {
   "cell_type": "code",
   "execution_count": 95,
   "metadata": {},
   "outputs": [
    {
     "name": "stdout",
     "output_type": "stream",
     "text": [
      "_________________________________________________________________\n",
      "Layer (type)                 Output Shape              Param #   \n",
      "=================================================================\n",
      "embedding_6 (Embedding)      (None, 100, 32)           320000    \n",
      "_________________________________________________________________\n",
      "flatten_6 (Flatten)          (None, 3200)              0         \n",
      "_________________________________________________________________\n",
      "dense_9 (Dense)              (None, 6)                 19206     \n",
      "=================================================================\n",
      "Total params: 339,206\n",
      "Trainable params: 339,206\n",
      "Non-trainable params: 0\n",
      "_________________________________________________________________\n",
      "Train on 111699 samples, validate on 47872 samples\n",
      "Epoch 1/10\n",
      "111699/111699 [==============================] - 5s 41us/step - loss: 0.1308 - acc: 0.9623 - val_loss: 0.0808 - val_acc: 0.9717\n",
      "Epoch 2/10\n",
      "111699/111699 [==============================] - 4s 40us/step - loss: 0.0723 - acc: 0.9756 - val_loss: 0.0709 - val_acc: 0.9763\n",
      "Epoch 3/10\n",
      "111699/111699 [==============================] - 4s 38us/step - loss: 0.0644 - acc: 0.9784 - val_loss: 0.0675 - val_acc: 0.9783\n",
      "Epoch 4/10\n",
      "111699/111699 [==============================] - 4s 38us/step - loss: 0.0609 - acc: 0.9795 - val_loss: 0.0659 - val_acc: 0.9789\n",
      "Epoch 5/10\n",
      "111699/111699 [==============================] - 4s 37us/step - loss: 0.0586 - acc: 0.9802 - val_loss: 0.0663 - val_acc: 0.9786\n",
      "Epoch 6/10\n",
      "111699/111699 [==============================] - 4s 38us/step - loss: 0.0570 - acc: 0.9807 - val_loss: 0.0661 - val_acc: 0.9788\n",
      "Epoch 7/10\n",
      "111699/111699 [==============================] - 4s 38us/step - loss: 0.0555 - acc: 0.9810 - val_loss: 0.0644 - val_acc: 0.9794\n",
      "Epoch 8/10\n",
      "111699/111699 [==============================] - 4s 38us/step - loss: 0.0541 - acc: 0.9815 - val_loss: 0.0675 - val_acc: 0.9789\n",
      "Epoch 9/10\n",
      "111699/111699 [==============================] - 4s 35us/step - loss: 0.0527 - acc: 0.9818 - val_loss: 0.0660 - val_acc: 0.9794\n",
      "Epoch 10/10\n",
      "111699/111699 [==============================] - 4s 36us/step - loss: 0.0514 - acc: 0.9822 - val_loss: 0.0647 - val_acc: 0.9795\n"
     ]
    }
   ],
   "source": [
    "model = models.Sequential()\n",
    "model.add(layers.Embedding(max_words, 32, input_length=max_len))\n",
    "model.add(layers.Flatten())\n",
    "model.add(layers.Dense(6, activation='sigmoid'))\n",
    "model.compile(optimizer='rmsprop', loss='binary_crossentropy', metrics=['acc'])\n",
    "model.summary()\n",
    "history = model.fit(x_train, y_train,\n",
    "                    epochs=10,\n",
    "                    batch_size=512,\n",
    "                    validation_split=0.3)"
   ]
  },
  {
   "cell_type": "code",
   "execution_count": 98,
   "metadata": {},
   "outputs": [
    {
     "data": {
      "text/plain": [
       "{'acc': [0.9622870309576845,\n",
       "  0.9755697448605457,\n",
       "  0.9783972842555506,\n",
       "  0.979477563259022,\n",
       "  0.9801654255134351,\n",
       "  0.980663788525251,\n",
       "  0.9810353195861824,\n",
       "  0.9814754920431241,\n",
       "  0.9817903254908101,\n",
       "  0.9822454193923158],\n",
       " 'loss': [0.13080271986474926,\n",
       "  0.07227688423288292,\n",
       "  0.06441196427106087,\n",
       "  0.060859307080182036,\n",
       "  0.05864687837818864,\n",
       "  0.057005393178882154,\n",
       "  0.055549935828522676,\n",
       "  0.05409716389469177,\n",
       "  0.052689931915074116,\n",
       "  0.051387716960419896],\n",
       " 'val_acc': [0.971691862784605,\n",
       "  0.9763222591762237,\n",
       "  0.9782893020201494,\n",
       "  0.9789125007741591,\n",
       "  0.9785713107190668,\n",
       "  0.9787767162934982,\n",
       "  0.9794138325726922,\n",
       "  0.9789124950368137,\n",
       "  0.979427754241515,\n",
       "  0.9794834597225495],\n",
       " 'val_loss': [0.08078180600136997,\n",
       "  0.07088314008744642,\n",
       "  0.06754058603456313,\n",
       "  0.06585395300292714,\n",
       "  0.06633016255928233,\n",
       "  0.06613144246652164,\n",
       "  0.06435140644643396,\n",
       "  0.06748319094512552,\n",
       "  0.0659908451498511,\n",
       "  0.06470493689418476]}"
      ]
     },
     "execution_count": 98,
     "metadata": {},
     "output_type": "execute_result"
    }
   ],
   "source": [
    "history.history"
   ]
  },
  {
   "cell_type": "markdown",
   "metadata": {},
   "source": [
    "# Use pre-calculated embeddings (Glove)"
   ]
  },
  {
   "cell_type": "code",
   "execution_count": 18,
   "metadata": {},
   "outputs": [
    {
     "name": "stdout",
     "output_type": "stream",
     "text": [
      "Found 400000 word vectors.\n"
     ]
    }
   ],
   "source": [
    "glove_dir = 'glove.6B'\n",
    "embeddings_index = {}\n",
    "with open(os.path.join(glove_dir, 'glove.6B.300d.txt')) as f:\n",
    "    for line in f:\n",
    "        values = line.split()\n",
    "        word = values[0]\n",
    "        coefs = np.asarray(values[1:], dtype='float32')\n",
    "        embeddings_index[word] = coefs\n",
    "print('Found %s word vectors.' % len(embeddings_index))"
   ]
  },
  {
   "cell_type": "code",
   "execution_count": 29,
   "metadata": {},
   "outputs": [],
   "source": [
    "max_len=200\n",
    "embedding_dimension=300\n",
    "\n",
    "word_index = tokenizer.word_index\n",
    "train_sequences = tokenizer.texts_to_sequences(df_train['comment_text'])\n",
    "train_data = preprocessing.sequence.pad_sequences(train_sequences, maxlen=max_len)\n",
    "\n",
    "x_train = train_data[:100000]\n",
    "x_val = train_data[100000:]\n",
    "y_train = labels[:100000]\n",
    "y_val = labels[100000:]"
   ]
  },
  {
   "cell_type": "code",
   "execution_count": 22,
   "metadata": {},
   "outputs": [],
   "source": [
    "embedding_matrix = np.zeros((max_words, embedding_dimension))\n",
    "for word, i in word_index.items():\n",
    "    if i < max_words:\n",
    "        embedding_vector = embeddings_index.get(word)\n",
    "        if embedding_vector is not None:\n",
    "            embedding_matrix[i] = embedding_vector"
   ]
  },
  {
   "cell_type": "code",
   "execution_count": 23,
   "metadata": {},
   "outputs": [
    {
     "data": {
      "text/plain": [
       "(10000, 300)"
      ]
     },
     "execution_count": 23,
     "metadata": {},
     "output_type": "execute_result"
    }
   ],
   "source": [
    "embedding_matrix.shape"
   ]
  },
  {
   "cell_type": "code",
   "execution_count": 24,
   "metadata": {},
   "outputs": [
    {
     "name": "stdout",
     "output_type": "stream",
     "text": [
      "_________________________________________________________________\n",
      "Layer (type)                 Output Shape              Param #   \n",
      "=================================================================\n",
      "embedding_1 (Embedding)      (None, 200, 300)          3000000   \n",
      "_________________________________________________________________\n",
      "flatten_1 (Flatten)          (None, 60000)             0         \n",
      "_________________________________________________________________\n",
      "dense_1 (Dense)              (None, 32)                1920032   \n",
      "_________________________________________________________________\n",
      "dense_2 (Dense)              (None, 6)                 198       \n",
      "=================================================================\n",
      "Total params: 4,920,230\n",
      "Trainable params: 4,920,230\n",
      "Non-trainable params: 0\n",
      "_________________________________________________________________\n"
     ]
    }
   ],
   "source": [
    "model = models.Sequential()\n",
    "model.add(layers.Embedding(max_words, embedding_dimension, input_length=max_len))\n",
    "model.add(layers.Flatten())\n",
    "model.add(layers.Dense(32, activation='relu'))\n",
    "model.add(layers.Dense(6, activation='sigmoid'))\n",
    "model.summary()"
   ]
  },
  {
   "cell_type": "code",
   "execution_count": 25,
   "metadata": {},
   "outputs": [
    {
     "data": {
      "text/plain": [
       "TensorShape([Dimension(10000), Dimension(300)])"
      ]
     },
     "execution_count": 25,
     "metadata": {},
     "output_type": "execute_result"
    }
   ],
   "source": [
    "model.layers[0].weights[0].shape"
   ]
  },
  {
   "cell_type": "code",
   "execution_count": 26,
   "metadata": {},
   "outputs": [],
   "source": [
    "model.layers[0].set_weights([embedding_matrix])\n",
    "model.layers[0].trainable = False"
   ]
  },
  {
   "cell_type": "code",
   "execution_count": 27,
   "metadata": {},
   "outputs": [
    {
     "name": "stdout",
     "output_type": "stream",
     "text": [
      "Train on 100000 samples, validate on 59571 samples\n",
      "Epoch 1/10\n",
      "100000/100000 [==============================] - 53s 527us/step - loss: 0.0935 - acc: 0.9722 - val_loss: 0.0721 - val_acc: 0.9767\n",
      "Epoch 2/10\n",
      "100000/100000 [==============================] - 57s 566us/step - loss: 0.0587 - acc: 0.9798 - val_loss: 0.0713 - val_acc: 0.9769\n",
      "Epoch 3/10\n",
      "100000/100000 [==============================] - 49s 486us/step - loss: 0.0488 - acc: 0.9829 - val_loss: 0.0742 - val_acc: 0.9769\n",
      "Epoch 4/10\n",
      "100000/100000 [==============================] - 49s 492us/step - loss: 0.0421 - acc: 0.9852 - val_loss: 0.0792 - val_acc: 0.9756\n",
      "Epoch 5/10\n",
      "100000/100000 [==============================] - 57s 573us/step - loss: 0.0371 - acc: 0.9871 - val_loss: 0.0832 - val_acc: 0.9773\n",
      "Epoch 6/10\n",
      "100000/100000 [==============================] - 54s 537us/step - loss: 0.0326 - acc: 0.9889 - val_loss: 0.0879 - val_acc: 0.9769\n",
      "Epoch 7/10\n",
      "100000/100000 [==============================] - 55s 549us/step - loss: 0.0291 - acc: 0.9903 - val_loss: 0.0908 - val_acc: 0.9746\n",
      "Epoch 8/10\n",
      "100000/100000 [==============================] - 49s 490us/step - loss: 0.0259 - acc: 0.9915 - val_loss: 0.0979 - val_acc: 0.9745\n",
      "Epoch 9/10\n",
      "100000/100000 [==============================] - 53s 530us/step - loss: 0.0233 - acc: 0.9925 - val_loss: 0.1061 - val_acc: 0.9764\n",
      "Epoch 10/10\n",
      "100000/100000 [==============================] - 63s 631us/step - loss: 0.0209 - acc: 0.9935 - val_loss: 0.1105 - val_acc: 0.9756\n"
     ]
    }
   ],
   "source": [
    "model.compile(optimizer='rmsprop',\n",
    "                loss='binary_crossentropy',\n",
    "                metrics=['acc'])\n",
    "history = model.fit(x_train, y_train,\n",
    "                epochs=10,\n",
    "                batch_size=512,\n",
    "                validation_data=(x_val, y_val))"
   ]
  },
  {
   "cell_type": "markdown",
   "metadata": {},
   "source": [
    "# Use a simple RNN"
   ]
  },
  {
   "cell_type": "code",
   "execution_count": 33,
   "metadata": {},
   "outputs": [
    {
     "name": "stdout",
     "output_type": "stream",
     "text": [
      "_________________________________________________________________\n",
      "Layer (type)                 Output Shape              Param #   \n",
      "=================================================================\n",
      "embedding_4 (Embedding)      (None, None, 32)          320000    \n",
      "_________________________________________________________________\n",
      "simple_rnn_4 (SimpleRNN)     (None, 32)                2080      \n",
      "=================================================================\n",
      "Total params: 322,080\n",
      "Trainable params: 322,080\n",
      "Non-trainable params: 0\n",
      "_________________________________________________________________\n"
     ]
    }
   ],
   "source": [
    "model = models.Sequential()\n",
    "model.add(layers.Embedding(10000, 32))\n",
    "model.add(layers.SimpleRNN(32))\n",
    "model.summary()"
   ]
  },
  {
   "cell_type": "code",
   "execution_count": 39,
   "metadata": {},
   "outputs": [],
   "source": [
    "embedding_dimension = 32\n",
    "max_len = 200\n",
    "\n",
    "x_train = tokenizer.texts_to_sequences(df_train['comment_text'])\n",
    "x_train = preprocessing.sequence.pad_sequences(x_train, maxlen=max_len)\n",
    "y_train = labels"
   ]
  },
  {
   "cell_type": "code",
   "execution_count": 44,
   "metadata": {},
   "outputs": [
    {
     "name": "stdout",
     "output_type": "stream",
     "text": [
      "_________________________________________________________________\n",
      "Layer (type)                 Output Shape              Param #   \n",
      "=================================================================\n",
      "embedding_10 (Embedding)     (None, 200, 32)           320000    \n",
      "_________________________________________________________________\n",
      "simple_rnn_11 (SimpleRNN)    (None, 200, 32)           2080      \n",
      "_________________________________________________________________\n",
      "simple_rnn_12 (SimpleRNN)    (None, 32)                2080      \n",
      "_________________________________________________________________\n",
      "dense_4 (Dense)              (None, 6)                 198       \n",
      "=================================================================\n",
      "Total params: 324,358\n",
      "Trainable params: 324,358\n",
      "Non-trainable params: 0\n",
      "_________________________________________________________________\n"
     ]
    }
   ],
   "source": [
    "model = models.Sequential()\n",
    "model.add(layers.Embedding(max_words, embedding_dimension, input_length=max_len))\n",
    "model.add(layers.SimpleRNN(32, return_sequences=True))\n",
    "model.add(layers.SimpleRNN(32))\n",
    "model.add(layers.Dense(6, activation='sigmoid'))\n",
    "model.summary()"
   ]
  },
  {
   "cell_type": "code",
   "execution_count": 45,
   "metadata": {},
   "outputs": [
    {
     "name": "stdout",
     "output_type": "stream",
     "text": [
      "Train on 111699 samples, validate on 47872 samples\n",
      "Epoch 1/10\n",
      "111699/111699 [==============================] - 69s 621us/step - loss: 0.1454 - acc: 0.9614 - val_loss: 0.0784 - val_acc: 0.9750\n",
      "Epoch 2/10\n",
      "111699/111699 [==============================] - 67s 599us/step - loss: 0.0670 - acc: 0.9777 - val_loss: 0.0629 - val_acc: 0.9792\n",
      "Epoch 3/10\n",
      "111699/111699 [==============================] - 68s 607us/step - loss: 0.0559 - acc: 0.9807 - val_loss: 0.0583 - val_acc: 0.9803\n",
      "Epoch 4/10\n",
      "111699/111699 [==============================] - 68s 610us/step - loss: 0.0511 - acc: 0.9819 - val_loss: 0.0611 - val_acc: 0.9805\n",
      "Epoch 5/10\n",
      "111699/111699 [==============================] - 67s 604us/step - loss: 0.0506 - acc: 0.9815 - val_loss: 0.0599 - val_acc: 0.9794\n",
      "Epoch 6/10\n",
      "111699/111699 [==============================] - 67s 603us/step - loss: 0.0479 - acc: 0.9826 - val_loss: 0.0571 - val_acc: 0.9797\n",
      "Epoch 7/10\n",
      "111699/111699 [==============================] - 67s 601us/step - loss: 0.0454 - acc: 0.9835 - val_loss: 0.0565 - val_acc: 0.9804\n",
      "Epoch 8/10\n",
      "111699/111699 [==============================] - 67s 603us/step - loss: 0.0442 - acc: 0.9837 - val_loss: 0.0582 - val_acc: 0.9803\n",
      "Epoch 9/10\n",
      "111699/111699 [==============================] - 68s 605us/step - loss: 0.0415 - acc: 0.9848 - val_loss: 0.0600 - val_acc: 0.9803\n",
      "Epoch 10/10\n",
      "111699/111699 [==============================] - 67s 603us/step - loss: 0.0397 - acc: 0.9854 - val_loss: 0.0698 - val_acc: 0.9796\n"
     ]
    }
   ],
   "source": [
    "model.compile(optimizer='rmsprop',\n",
    "                loss='binary_crossentropy',\n",
    "                metrics=['acc'])\n",
    "history = model.fit(x_train, y_train,\n",
    "                    epochs=10,\n",
    "                    batch_size=512,\n",
    "                    validation_split=0.3)"
   ]
  },
  {
   "cell_type": "markdown",
   "metadata": {},
   "source": [
    "# Use LSTM"
   ]
  },
  {
   "cell_type": "code",
   "execution_count": 48,
   "metadata": {},
   "outputs": [
    {
     "name": "stdout",
     "output_type": "stream",
     "text": [
      "_________________________________________________________________\n",
      "Layer (type)                 Output Shape              Param #   \n",
      "=================================================================\n",
      "embedding_12 (Embedding)     (None, 200, 32)           320000    \n",
      "_________________________________________________________________\n",
      "lstm_2 (LSTM)                (None, 32)                8320      \n",
      "_________________________________________________________________\n",
      "dense_6 (Dense)              (None, 6)                 198       \n",
      "=================================================================\n",
      "Total params: 328,518\n",
      "Trainable params: 328,518\n",
      "Non-trainable params: 0\n",
      "_________________________________________________________________\n"
     ]
    }
   ],
   "source": [
    "model = models.Sequential()\n",
    "model.add(layers.Embedding(max_words, embedding_dimension, input_length=max_len))\n",
    "model.add(layers.LSTM(32))\n",
    "model.add(layers.Dense(6, activation='sigmoid'))\n",
    "model.summary()"
   ]
  },
  {
   "cell_type": "code",
   "execution_count": 49,
   "metadata": {},
   "outputs": [
    {
     "name": "stdout",
     "output_type": "stream",
     "text": [
      "Train on 111699 samples, validate on 47872 samples\n",
      "Epoch 1/10\n",
      "111699/111699 [==============================] - 110s 983us/step - loss: 0.1479 - acc: 0.9630 - val_loss: 0.0886 - val_acc: 0.9690\n",
      "Epoch 2/10\n",
      "111699/111699 [==============================] - 102s 913us/step - loss: 0.0639 - acc: 0.9777 - val_loss: 0.0597 - val_acc: 0.9796\n",
      "Epoch 3/10\n",
      "111699/111699 [==============================] - 108s 964us/step - loss: 0.0553 - acc: 0.9806 - val_loss: 0.0568 - val_acc: 0.9801\n",
      "Epoch 4/10\n",
      "111699/111699 [==============================] - 109s 974us/step - loss: 0.0500 - acc: 0.9819 - val_loss: 0.0539 - val_acc: 0.9810\n",
      "Epoch 5/10\n",
      "111699/111699 [==============================] - 116s 1ms/step - loss: 0.0481 - acc: 0.9824 - val_loss: 0.0534 - val_acc: 0.9807\n",
      "Epoch 6/10\n",
      "111699/111699 [==============================] - 116s 1ms/step - loss: 0.0467 - acc: 0.9828 - val_loss: 0.0536 - val_acc: 0.9813\n",
      "Epoch 7/10\n",
      "111699/111699 [==============================] - 115s 1ms/step - loss: 0.0455 - acc: 0.9830 - val_loss: 0.0525 - val_acc: 0.9814\n",
      "Epoch 8/10\n",
      "111699/111699 [==============================] - 113s 1ms/step - loss: 0.0446 - acc: 0.9833 - val_loss: 0.0521 - val_acc: 0.9815\n",
      "Epoch 9/10\n",
      "111699/111699 [==============================] - 119s 1ms/step - loss: 0.0438 - acc: 0.9836 - val_loss: 0.0539 - val_acc: 0.9802\n",
      "Epoch 10/10\n",
      "111699/111699 [==============================] - 104s 929us/step - loss: 0.0427 - acc: 0.9838 - val_loss: 0.0529 - val_acc: 0.9813\n"
     ]
    }
   ],
   "source": [
    "model.compile(optimizer='rmsprop',\n",
    "                loss='binary_crossentropy',\n",
    "                metrics=['acc'])\n",
    "history = model.fit(x_train, y_train,\n",
    "                    epochs=10,\n",
    "                    batch_size=512,\n",
    "                    validation_split=0.3)"
   ]
  },
  {
   "cell_type": "markdown",
   "metadata": {},
   "source": [
    "# Use GRU"
   ]
  },
  {
   "cell_type": "code",
   "execution_count": 50,
   "metadata": {},
   "outputs": [
    {
     "name": "stdout",
     "output_type": "stream",
     "text": [
      "_________________________________________________________________\n",
      "Layer (type)                 Output Shape              Param #   \n",
      "=================================================================\n",
      "embedding_13 (Embedding)     (None, 200, 32)           320000    \n",
      "_________________________________________________________________\n",
      "gru_1 (GRU)                  (None, 32)                6240      \n",
      "_________________________________________________________________\n",
      "dense_7 (Dense)              (None, 6)                 198       \n",
      "=================================================================\n",
      "Total params: 326,438\n",
      "Trainable params: 326,438\n",
      "Non-trainable params: 0\n",
      "_________________________________________________________________\n"
     ]
    }
   ],
   "source": [
    "model = models.Sequential()\n",
    "model.add(layers.Embedding(max_words, embedding_dimension, input_length=max_len))\n",
    "model.add(layers.GRU(32))\n",
    "model.add(layers.Dense(6, activation='sigmoid'))\n",
    "model.summary()"
   ]
  },
  {
   "cell_type": "code",
   "execution_count": 51,
   "metadata": {},
   "outputs": [
    {
     "name": "stdout",
     "output_type": "stream",
     "text": [
      "Train on 111699 samples, validate on 47872 samples\n",
      "Epoch 1/10\n",
      "111699/111699 [==============================] - 93s 832us/step - loss: 0.1459 - acc: 0.9630 - val_loss: 0.0855 - val_acc: 0.9715\n",
      "Epoch 2/10\n",
      "111699/111699 [==============================] - 89s 796us/step - loss: 0.0632 - acc: 0.9782 - val_loss: 0.0659 - val_acc: 0.9792\n",
      "Epoch 3/10\n",
      "111699/111699 [==============================] - 79s 704us/step - loss: 0.0529 - acc: 0.9815 - val_loss: 0.0585 - val_acc: 0.9802\n",
      "Epoch 4/10\n",
      "111699/111699 [==============================] - 79s 706us/step - loss: 0.0502 - acc: 0.9820 - val_loss: 0.0539 - val_acc: 0.9805\n",
      "Epoch 5/10\n",
      "111699/111699 [==============================] - 81s 726us/step - loss: 0.0485 - acc: 0.9823 - val_loss: 0.0542 - val_acc: 0.9804\n",
      "Epoch 6/10\n",
      "111699/111699 [==============================] - 85s 765us/step - loss: 0.0470 - acc: 0.9825 - val_loss: 0.0627 - val_acc: 0.9801\n",
      "Epoch 7/10\n",
      "111699/111699 [==============================] - 121s 1ms/step - loss: 0.0457 - acc: 0.9830 - val_loss: 0.0529 - val_acc: 0.9803\n",
      "Epoch 8/10\n",
      "111699/111699 [==============================] - 96s 860us/step - loss: 0.0445 - acc: 0.9833 - val_loss: 0.0528 - val_acc: 0.9813\n",
      "Epoch 9/10\n",
      "111699/111699 [==============================] - 107s 962us/step - loss: 0.0431 - acc: 0.9837 - val_loss: 0.0516 - val_acc: 0.9811\n",
      "Epoch 10/10\n",
      "111699/111699 [==============================] - 94s 843us/step - loss: 0.0421 - acc: 0.9842 - val_loss: 0.0518 - val_acc: 0.9813\n"
     ]
    }
   ],
   "source": [
    "model.compile(optimizer='rmsprop',\n",
    "                loss='binary_crossentropy',\n",
    "                metrics=['acc'])\n",
    "history = model.fit(x_train, y_train,\n",
    "                    epochs=10,\n",
    "                    batch_size=512,\n",
    "                    validation_split=0.3)"
   ]
  },
  {
   "cell_type": "code",
   "execution_count": 52,
   "metadata": {},
   "outputs": [
    {
     "data": {
      "text/plain": [
       "array([5, 6, 7, 8, 9])"
      ]
     },
     "execution_count": 52,
     "metadata": {},
     "output_type": "execute_result"
    }
   ],
   "source": [
    "np.arange(5, 10)"
   ]
  },
  {
   "cell_type": "code",
   "execution_count": null,
   "metadata": {},
   "outputs": [],
   "source": []
  }
 ],
 "metadata": {
  "kernelspec": {
   "display_name": "Python 3",
   "language": "python",
   "name": "python3"
  },
  "language_info": {
   "codemirror_mode": {
    "name": "ipython",
    "version": 3
   },
   "file_extension": ".py",
   "mimetype": "text/x-python",
   "name": "python",
   "nbconvert_exporter": "python",
   "pygments_lexer": "ipython3",
   "version": "3.6.2"
  }
 },
 "nbformat": 4,
 "nbformat_minor": 2
}
